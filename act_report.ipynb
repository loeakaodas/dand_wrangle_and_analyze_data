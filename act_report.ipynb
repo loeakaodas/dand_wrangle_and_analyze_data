{
 "cells": [
  {
   "cell_type": "markdown",
   "metadata": {},
   "source": [
    "## @dog_rates' Tweets Analysis and Insights Report\n",
    "\n",
    "> documentation of analysis and insights into final data\n",
    "\n",
    "As part of the Udacity DAND I had to gather, assess, and clean a dataset that comprised tweets & related data from the `@dog_rates` Twitter account. With all the hard work of gathering the data from multiple sources and in multiple formats, looking for and identifying issues with the provided dataset, and finally fixing the previously mentioned issues I was able to begin analyzing the data to find some interesting insights.\n",
    "\n",
    "I was interested in 2 specific things at the start of this project. \n",
    "\n",
    "The \"highly adorable\" data contained a `dog_type` as I chose to call it in the analysis for a subset of the tweets. These were a specialized classification system used by the `@dog_rates` account for the dogs it rates in an age/maturity bracket (except for `floofer` which was used to classify **fluffy** dogs). The youngest of the `dog_types` is _pupper_ with _puppo_ next and _doggo_ at the top as the older/mature classification. I wanted to know if ratings between the different classifications would differ.\n",
    "\n",
    "I was expecting that since puppies are so adorable that _pupper_ would have a larger overall rating as compared to the other types, but looking at the data & visuzling the average rating by each `dog_stage` I saw that it is actually significantly smaller than the rest, it had a mean of just `1.08`. While the rest of the stages (including `floofer`) were all around the same mean value of `1.20`.\n",
    "\n",
    "And the 2nd thing I was interested in was if the ratings for the dogs had changed over time with the provided dataset. In order to accurately and evenly compare the ratings I normalized the provided numerator and denominator from the data to a single `rating` variable.\n",
    "\n",
    "\n",
    "Ratings over time when plotted showed that they have become less variable and stabalized around a normalized value of `1.2`. There are only a few instances of lower ratings in the second half of the dataset versus the first. This was something I thought might happen as the incentive to provide lower ratings decreases over time."
   ]
  }
 ],
 "metadata": {
  "kernelspec": {
   "display_name": "Python 3",
   "language": "python",
   "name": "python3"
  },
  "language_info": {
   "codemirror_mode": {
    "name": "ipython",
    "version": 3
   },
   "file_extension": ".py",
   "mimetype": "text/x-python",
   "name": "python",
   "nbconvert_exporter": "python",
   "pygments_lexer": "ipython3",
   "version": "3.7.4"
  }
 },
 "nbformat": 4,
 "nbformat_minor": 2
}
